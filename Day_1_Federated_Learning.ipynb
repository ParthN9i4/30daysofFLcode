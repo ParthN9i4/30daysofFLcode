{
  "cells": [
    {
      "cell_type": "markdown",
      "metadata": {
        "id": "view-in-github",
        "colab_type": "text"
      },
      "source": [
        "<a href=\"https://colab.research.google.com/github/ParthN9i4/30daysofFLcode/blob/main/Day_1_Federated_Learning.ipynb\" target=\"_parent\"><img src=\"https://colab.research.google.com/assets/colab-badge.svg\" alt=\"Open In Colab\"/></a>"
      ]
    },
    {
      "cell_type": "markdown",
      "metadata": {
        "id": "rUTudM5C2icB"
      },
      "source": [
        "# Section: Federated Learning"
      ]
    },
    {
      "cell_type": "markdown",
      "metadata": {
        "id": "60ncoBGO2icF"
      },
      "source": [
        "# Lesson: Introducing Federated Learning\n",
        "\n",
        "Federated Learning is a technique for training Deep Learning models on data to which you do not have access. Basically:\n",
        "\n",
        "Federated Learning: Instead of bringing all the data to one machine and training a model, we bring the model to the data, train it locally, and merely upload \"model updates\" to a central server.\n",
        "\n",
        "Use Cases:\n",
        "\n",
        "    - app company (Texting prediction app)\n",
        "    - predictive maintenance (automobiles / industrial engines)\n",
        "    - wearable medical devices\n",
        "    - ad blockers / autotomplete in browsers (Firefox/Brave)\n",
        "    \n",
        "Challenge Description: data is distributed amongst sources but we cannot aggregated it because of:\n",
        "\n",
        "    - privacy concerns: legal, user discomfort, competitive dynamics\n",
        "    - engineering: the bandwidth/storage requirements of aggregating the larger dataset"
      ]
    },
    {
      "cell_type": "markdown",
      "metadata": {
        "id": "jiY0p51_2icH"
      },
      "source": [
        "# Lesson: Introducing / Installing PySyft\n",
        "\n",
        "In order to perform Federated Learning, we need to be able to use Deep Learning techniques on remote machines. This will require a new set of tools. Specifically, we will use an extension of PyTorch called PySyft.\n",
        "\n",
        "### Install PySyft\n",
        "\n",
        "The easiest way to install the required libraries is with [Conda](https://docs.conda.io/projects/conda/en/latest/user-guide/overview.html). Create a new environment, then install the dependencies in that environment. In your terminal:\n",
        "\n",
        "```bash\n",
        "conda create -n pysyft python=3.6\n",
        "conda activate pysyft # some older version of conda require \"source activate pysyft\" instead.\n",
        "conda install jupyter notebook\n",
        "pip install syft\n",
        "pip install numpy\n",
        "```\n",
        "\n",
        "If you have any errors relating to zstd - run the following (if everything above installed fine then skip this step):\n",
        "\n",
        "```\n",
        "pip install --upgrade --force-reinstall zstd\n",
        "```\n",
        "\n",
        "and then retry installing syft (pip install syft).\n",
        "\n",
        "If you are using Windows, I suggest installing [Anaconda and using the Anaconda Prompt](https://docs.anaconda.com/anaconda/user-guide/getting-started/) to work from the command line.\n",
        "\n",
        "With this environment activated and in the repo directory, launch Jupyter Notebook:\n",
        "\n",
        "```bash\n",
        "jupyter notebook\n",
        "```\n",
        "\n",
        "and re-open this notebook on the new Jupyter server.\n",
        "\n",
        "If any part of this doesn't work for you (or any of the tests fail) - first check the [README](https://github.com/OpenMined/PySyft.git) for installation help and then open a Github Issue or ping the #beginner channel in our slack! [slack.openmined.org](http://slack.openmined.org/)"
      ]
    },
    {
      "cell_type": "code",
      "execution_count": null,
      "metadata": {
        "id": "9Q-fsKGM2icI"
      },
      "outputs": [],
      "source": [
        "import torch as th"
      ]
    },
    {
      "cell_type": "code",
      "execution_count": null,
      "metadata": {
        "id": "sstPAeg52icK",
        "outputId": "0d6ca3be-e8c1-4bd5-e134-cdc32471634c"
      },
      "outputs": [
        {
          "data": {
            "text/plain": [
              "tensor([1, 2, 3, 4, 5])"
            ]
          },
          "execution_count": 2,
          "metadata": {},
          "output_type": "execute_result"
        }
      ],
      "source": [
        "x = th.tensor([1,2,3,4,5])\n",
        "x"
      ]
    },
    {
      "cell_type": "code",
      "execution_count": null,
      "metadata": {
        "id": "XXUdUL6s2icM"
      },
      "outputs": [],
      "source": [
        "y = x + x"
      ]
    },
    {
      "cell_type": "code",
      "execution_count": null,
      "metadata": {
        "id": "qIRIxqnW2icM",
        "outputId": "e09f64d8-8de0-4399-94f8-658cce1150d2"
      },
      "outputs": [
        {
          "name": "stdout",
          "output_type": "stream",
          "text": [
            "tensor([ 2,  4,  6,  8, 10])\n"
          ]
        }
      ],
      "source": [
        "print(y)"
      ]
    },
    {
      "cell_type": "code",
      "execution_count": null,
      "metadata": {
        "id": "B7blTr-F2icN"
      },
      "outputs": [],
      "source": []
    },
    {
      "cell_type": "code",
      "execution_count": null,
      "metadata": {
        "id": "Qqlgt2Lb2icO",
        "outputId": "16956c59-5787-4d2f-a1f3-4284e1a8d32c"
      },
      "outputs": [
        {
          "name": "stderr",
          "output_type": "stream",
          "text": [
            "WARNING: Logging before flag parsing goes to stderr.\n",
            "W0707 15:26:28.334082 4768265664 secure_random.py:26] Falling back to insecure randomness since the required custom op could not be found for the installed version of TensorFlow. Fix this by compiling custom ops. Missing file was '/anaconda3/envs/pysyft/lib/python3.6/site-packages/tf_encrypted/operations/secure_random/secure_random_module_tf_1.14.0.so'\n",
            "W0707 15:26:28.354856 4768265664 deprecation_wrapper.py:119] From /anaconda3/envs/pysyft/lib/python3.6/site-packages/tf_encrypted/session.py:26: The name tf.Session is deprecated. Please use tf.compat.v1.Session instead.\n",
            "\n"
          ]
        }
      ],
      "source": [
        "import syft as sy"
      ]
    },
    {
      "cell_type": "code",
      "execution_count": null,
      "metadata": {
        "id": "aVplM6qo2icP"
      },
      "outputs": [],
      "source": [
        "hook = sy.TorchHook(th)"
      ]
    },
    {
      "cell_type": "code",
      "execution_count": null,
      "metadata": {
        "id": "u7Ll3orC2icP",
        "outputId": "13135772-55c3-4d33-da16-2608c05a8ecf"
      },
      "outputs": [
        {
          "data": {
            "text/plain": [
              "tensor([1, 2, 3, 4, 5])"
            ]
          },
          "execution_count": 7,
          "metadata": {},
          "output_type": "execute_result"
        }
      ],
      "source": [
        "th.tensor([1,2,3,4,5])"
      ]
    },
    {
      "cell_type": "markdown",
      "metadata": {
        "id": "HzOKq-0y2icQ"
      },
      "source": [
        "# Lesson: Basic Remote Execution in PySyft"
      ]
    },
    {
      "cell_type": "markdown",
      "metadata": {
        "id": "GVHiVGRF2icQ"
      },
      "source": [
        "## PySyft => Remote PyTorch\n",
        "\n",
        "The essence of Federated Learning is the ability to train models in parallel on a wide number of machines. Thus, we need the ability to tell remote machines to execute the operations required for Deep Learning.\n",
        "\n",
        "Thus, instead of using Torch tensors - we're now going to work with **pointers** to tensors. Let me show you what I mean. First, let's create a \"pretend\" machine owned by a \"pretend\" person - we'll call him Bob."
      ]
    },
    {
      "cell_type": "code",
      "execution_count": null,
      "metadata": {
        "id": "CCKG5mU52icQ"
      },
      "outputs": [],
      "source": [
        "bob = sy.VirtualWorker(hook, id=\"bob\")"
      ]
    },
    {
      "cell_type": "code",
      "execution_count": null,
      "metadata": {
        "id": "4C056qtx2icR",
        "outputId": "3b71e691-a28f-425b-90e0-cecff0203d46"
      },
      "outputs": [
        {
          "data": {
            "text/plain": [
              "{}"
            ]
          },
          "execution_count": 24,
          "metadata": {},
          "output_type": "execute_result"
        }
      ],
      "source": [
        "bob._objects"
      ]
    },
    {
      "cell_type": "code",
      "execution_count": null,
      "metadata": {
        "id": "UtNrotay2icS"
      },
      "outputs": [],
      "source": [
        "x = th.tensor([1,2,3,4,5])"
      ]
    },
    {
      "cell_type": "code",
      "execution_count": null,
      "metadata": {
        "id": "dTVV7pTX2icS"
      },
      "outputs": [],
      "source": [
        "# Send the tensor to bob\n",
        "x = x.send(bob)"
      ]
    },
    {
      "cell_type": "code",
      "execution_count": null,
      "metadata": {
        "id": "TBJaIzCf2icS",
        "outputId": "8c812863-e3a9-45de-c302-55d6ac4da9d1"
      },
      "outputs": [
        {
          "data": {
            "text/plain": [
              "{93866940726: tensor([1, 2, 3, 4, 5])}"
            ]
          },
          "execution_count": 27,
          "metadata": {},
          "output_type": "execute_result"
        }
      ],
      "source": [
        "bob._objects"
      ]
    },
    {
      "cell_type": "code",
      "execution_count": null,
      "metadata": {
        "id": "867ropcm2icT",
        "outputId": "731be000-084a-4b40-b70a-8ad13f83e067"
      },
      "outputs": [
        {
          "data": {
            "text/plain": [
              "<VirtualWorker id:bob #objects:1>"
            ]
          },
          "execution_count": 28,
          "metadata": {},
          "output_type": "execute_result"
        }
      ],
      "source": [
        "x.location"
      ]
    },
    {
      "cell_type": "code",
      "execution_count": null,
      "metadata": {
        "id": "OZ7khIf72icT",
        "outputId": "17cb79f2-9aa7-4ca5-eb92-922a5d60f2ca"
      },
      "outputs": [
        {
          "data": {
            "text/plain": [
              "93866940726"
            ]
          },
          "execution_count": 29,
          "metadata": {},
          "output_type": "execute_result"
        }
      ],
      "source": [
        "x.id_at_location"
      ]
    },
    {
      "cell_type": "code",
      "execution_count": null,
      "metadata": {
        "id": "U9MhsGh_2icT",
        "outputId": "bb205767-8f84-4819-a26a-5fa915050a74"
      },
      "outputs": [
        {
          "data": {
            "text/plain": [
              "52797135077"
            ]
          },
          "execution_count": 30,
          "metadata": {},
          "output_type": "execute_result"
        }
      ],
      "source": [
        "# This to get the id of the local machine (me)\n",
        "x.id"
      ]
    },
    {
      "cell_type": "code",
      "execution_count": null,
      "metadata": {
        "id": "LtD3idUT2icU",
        "outputId": "22dbffa7-aae0-433c-e01e-77e9be1761a3"
      },
      "outputs": [
        {
          "data": {
            "text/plain": [
              "<VirtualWorker id:me #objects:0>"
            ]
          },
          "execution_count": 31,
          "metadata": {},
          "output_type": "execute_result"
        }
      ],
      "source": [
        "x.owner"
      ]
    },
    {
      "cell_type": "code",
      "execution_count": null,
      "metadata": {
        "id": "DhTCXHN_2icU",
        "outputId": "26d57dba-51a9-4608-b9c4-8c1e3afd9dfa"
      },
      "outputs": [
        {
          "data": {
            "text/plain": [
              "<VirtualWorker id:me #objects:0>"
            ]
          },
          "execution_count": 32,
          "metadata": {},
          "output_type": "execute_result"
        }
      ],
      "source": [
        "hook.local_worker"
      ]
    },
    {
      "cell_type": "code",
      "execution_count": null,
      "metadata": {
        "id": "NAWDDqau2icV",
        "outputId": "786465f9-47f6-4fe1-8a65-c5a8fec9cb7c"
      },
      "outputs": [
        {
          "data": {
            "text/plain": [
              "(Wrapper)>[PointerTensor | me:52797135077 -> bob:93866940726]"
            ]
          },
          "execution_count": 33,
          "metadata": {},
          "output_type": "execute_result"
        }
      ],
      "source": [
        "x"
      ]
    },
    {
      "cell_type": "code",
      "execution_count": null,
      "metadata": {
        "id": "NUXnUE_f2icV"
      },
      "outputs": [],
      "source": [
        "# Get the tensor from bob and freeing the resource : pointer\n",
        "x = x.get()"
      ]
    },
    {
      "cell_type": "code",
      "execution_count": null,
      "metadata": {
        "id": "JP9WM2xu2icV",
        "outputId": "dfe45b1a-0074-4032-8c07-3bf3c3109897"
      },
      "outputs": [
        {
          "data": {
            "text/plain": [
              "tensor([1, 2, 3, 4, 5])"
            ]
          },
          "execution_count": 35,
          "metadata": {},
          "output_type": "execute_result"
        }
      ],
      "source": [
        "x"
      ]
    },
    {
      "cell_type": "code",
      "execution_count": null,
      "metadata": {
        "id": "Jw0HNy0i2icW",
        "outputId": "e4bfb40c-9ae7-4029-cc02-589b701ba1ec"
      },
      "outputs": [
        {
          "data": {
            "text/plain": [
              "{}"
            ]
          },
          "execution_count": 36,
          "metadata": {},
          "output_type": "execute_result"
        }
      ],
      "source": [
        "bob._objects"
      ]
    },
    {
      "cell_type": "markdown",
      "metadata": {
        "id": "Q5r32aKn2icW"
      },
      "source": [
        "# Project: Playing with Remote Tensors\n",
        "\n",
        "In this project, I want you to .send() and .get() a tensor to TWO workers by calling .send(bob,alice). This will first require the creation of another VirtualWorker called alice."
      ]
    },
    {
      "cell_type": "code",
      "execution_count": null,
      "metadata": {
        "id": "NfQIxc_-2icW"
      },
      "outputs": [],
      "source": [
        "# try this project here!"
      ]
    },
    {
      "cell_type": "code",
      "execution_count": null,
      "metadata": {
        "id": "2BMUDD2O2icW"
      },
      "outputs": [],
      "source": [
        "bob = sy.VirtualWorker(hook, id=\"bob\")\n",
        "alice = sy.VirtualWorker(hook, id='alice')"
      ]
    },
    {
      "cell_type": "code",
      "execution_count": null,
      "metadata": {
        "id": "1a6_e0pb2icX",
        "outputId": "ff75da25-b703-4816-9c41-5b30ea505d7a"
      },
      "outputs": [
        {
          "data": {
            "text/plain": [
              "{}"
            ]
          },
          "execution_count": 38,
          "metadata": {},
          "output_type": "execute_result"
        }
      ],
      "source": [
        "bob._objects"
      ]
    },
    {
      "cell_type": "code",
      "execution_count": null,
      "metadata": {
        "id": "DQQfKL9-2icX",
        "outputId": "ebe62c0a-a6ce-4204-d404-d84df351add5"
      },
      "outputs": [
        {
          "data": {
            "text/plain": [
              "{}"
            ]
          },
          "execution_count": 39,
          "metadata": {},
          "output_type": "execute_result"
        }
      ],
      "source": [
        "alice._objects"
      ]
    },
    {
      "cell_type": "code",
      "execution_count": null,
      "metadata": {
        "id": "dbsivtgo2icX"
      },
      "outputs": [],
      "source": [
        "x = th.tensor([1,2,3,4,5])"
      ]
    },
    {
      "cell_type": "code",
      "execution_count": null,
      "metadata": {
        "id": "MoopuMar2icY"
      },
      "outputs": [],
      "source": [
        "x = x.send(bob,alice)"
      ]
    },
    {
      "cell_type": "code",
      "execution_count": null,
      "metadata": {
        "id": "SgIsfEbp2icY",
        "outputId": "28040cea-f8f1-4047-fa90-7318403a114f"
      },
      "outputs": [
        {
          "data": {
            "text/plain": [
              "(Wrapper)>[MultiPointerTensor]\n",
              "\t-> (Wrapper)>[PointerTensor | me:87543785747 -> bob:78112306649]\n",
              "\t-> (Wrapper)>[PointerTensor | me:99830694167 -> alice:88932022235]"
            ]
          },
          "execution_count": 50,
          "metadata": {},
          "output_type": "execute_result"
        }
      ],
      "source": [
        "x"
      ]
    },
    {
      "cell_type": "code",
      "execution_count": null,
      "metadata": {
        "id": "Te6_A8np2icY"
      },
      "outputs": [],
      "source": [
        "x = x.get()"
      ]
    },
    {
      "cell_type": "code",
      "execution_count": null,
      "metadata": {
        "id": "g1Dsrrf_2icZ",
        "outputId": "c33a01e1-19e3-4ead-bf2a-3eaac2fee0ce"
      },
      "outputs": [
        {
          "data": {
            "text/plain": [
              "[tensor([1, 2, 3, 4, 5]), tensor([1, 2, 3, 4, 5])]"
            ]
          },
          "execution_count": 52,
          "metadata": {},
          "output_type": "execute_result"
        }
      ],
      "source": [
        "x"
      ]
    },
    {
      "cell_type": "code",
      "execution_count": null,
      "metadata": {
        "id": "JNTFuPNV2icZ",
        "outputId": "fa24f884-14bb-42ad-9d5f-208f7d361eff"
      },
      "outputs": [
        {
          "data": {
            "text/plain": [
              "({}, {})"
            ]
          },
          "execution_count": 54,
          "metadata": {},
          "output_type": "execute_result"
        }
      ],
      "source": [
        "bob._objects, alice._objects"
      ]
    },
    {
      "cell_type": "code",
      "execution_count": null,
      "metadata": {
        "id": "yl1xDuVB2ica"
      },
      "outputs": [],
      "source": [
        "y = th.tensor([6,7,8,9,10])\n",
        "y = y.send(bob,alice)"
      ]
    },
    {
      "cell_type": "code",
      "execution_count": null,
      "metadata": {
        "id": "rfnnGdNi2icb",
        "outputId": "c0f59839-c9d8-473b-80b0-1c39e23dad87"
      },
      "outputs": [
        {
          "data": {
            "text/plain": [
              "MultiPointerTensor>{'bob': (Wrapper)>[PointerTensor | me:92256331573 -> bob:61210627182], 'alice': (Wrapper)>[PointerTensor | me:18039845090 -> alice:85905307780]}"
            ]
          },
          "execution_count": 73,
          "metadata": {},
          "output_type": "execute_result"
        }
      ],
      "source": [
        "y.child"
      ]
    },
    {
      "cell_type": "code",
      "execution_count": null,
      "metadata": {
        "id": "Y2JC32ca2icc",
        "outputId": "0d4baa97-c0b6-40d8-d297-5ff899ed03c5"
      },
      "outputs": [
        {
          "data": {
            "text/plain": [
              "(Wrapper)>[MultiPointerTensor]\n",
              "\t-> (Wrapper)>[PointerTensor | me:61556607052 -> bob:20483480976]\n",
              "\t-> (Wrapper)>[PointerTensor | me:69131552386 -> alice:59057926480]"
            ]
          },
          "execution_count": 69,
          "metadata": {},
          "output_type": "execute_result"
        }
      ],
      "source": [
        "# MultiPointerTensor\n",
        "y"
      ]
    },
    {
      "cell_type": "code",
      "execution_count": null,
      "metadata": {
        "id": "MGC-HH3d2icc"
      },
      "outputs": [],
      "source": [
        "y = y.get()"
      ]
    },
    {
      "cell_type": "code",
      "execution_count": null,
      "metadata": {
        "id": "DHrBTPhY2icd",
        "outputId": "9b22c122-5a98-4c29-b918-c8425253e0d8"
      },
      "outputs": [
        {
          "data": {
            "text/plain": [
              "tensor([12, 14, 16, 18, 20])"
            ]
          },
          "execution_count": 74,
          "metadata": {},
          "output_type": "execute_result"
        }
      ],
      "source": [
        "y.get(sum_results=True)"
      ]
    },
    {
      "cell_type": "markdown",
      "metadata": {
        "id": "4PJMTsr_2icd"
      },
      "source": [
        "# Lesson: Introducing Remote Arithmetic"
      ]
    },
    {
      "cell_type": "code",
      "execution_count": null,
      "metadata": {
        "id": "O5b80MYe2icd"
      },
      "outputs": [],
      "source": [
        "x = th.tensor([1,2,3,4,5]).send(bob)\n",
        "y = th.tensor([1,1,1,1,1]).send(bob)"
      ]
    },
    {
      "cell_type": "code",
      "execution_count": null,
      "metadata": {
        "id": "hCs9f9V82icd",
        "outputId": "ecb60783-90e2-4275-94ba-fe4c66d1f9b4"
      },
      "outputs": [
        {
          "data": {
            "text/plain": [
              "(Wrapper)>[PointerTensor | me:81075738780 -> bob:30849624082]"
            ]
          },
          "execution_count": 76,
          "metadata": {},
          "output_type": "execute_result"
        }
      ],
      "source": [
        "x"
      ]
    },
    {
      "cell_type": "code",
      "execution_count": null,
      "metadata": {
        "id": "qY94Qkth2ice",
        "outputId": "b3cbed05-4bde-4a11-fa5a-4b62fe740db8"
      },
      "outputs": [
        {
          "data": {
            "text/plain": [
              "(Wrapper)>[PointerTensor | me:33184930411 -> bob:44064299207]"
            ]
          },
          "execution_count": 77,
          "metadata": {},
          "output_type": "execute_result"
        }
      ],
      "source": [
        "y"
      ]
    },
    {
      "cell_type": "code",
      "execution_count": null,
      "metadata": {
        "id": "6c5_t3WR2ice"
      },
      "outputs": [],
      "source": [
        "z = x + y"
      ]
    },
    {
      "cell_type": "code",
      "execution_count": null,
      "metadata": {
        "id": "u0NHVgmq2ice",
        "outputId": "0396e3ad-e685-42e3-d3cd-48207e7450e8"
      },
      "outputs": [
        {
          "data": {
            "text/plain": [
              "(Wrapper)>[PointerTensor | me:1539670676 -> bob:3931108259]"
            ]
          },
          "execution_count": 79,
          "metadata": {},
          "output_type": "execute_result"
        }
      ],
      "source": [
        "z"
      ]
    },
    {
      "cell_type": "code",
      "execution_count": null,
      "metadata": {
        "id": "Zgbrgu-s2icf",
        "outputId": "0dcbed4b-d36a-444a-f85e-339063b9ed01"
      },
      "outputs": [
        {
          "data": {
            "text/plain": [
              "tensor([2, 3, 4, 5, 6])"
            ]
          },
          "execution_count": 80,
          "metadata": {},
          "output_type": "execute_result"
        }
      ],
      "source": [
        "z = z.get()\n",
        "z"
      ]
    },
    {
      "cell_type": "code",
      "execution_count": null,
      "metadata": {
        "id": "FhnGZHjO2icf",
        "outputId": "3dea114c-cfbe-4eb6-c796-337f6060004d"
      },
      "outputs": [
        {
          "data": {
            "text/plain": [
              "(Wrapper)>[PointerTensor | me:12265641437 -> bob:2704249267]"
            ]
          },
          "execution_count": 81,
          "metadata": {},
          "output_type": "execute_result"
        }
      ],
      "source": [
        "z = th.add(x,y)\n",
        "z"
      ]
    },
    {
      "cell_type": "code",
      "execution_count": null,
      "metadata": {
        "id": "aVsj_Rxy2icf",
        "outputId": "2061c60f-f3b0-4b66-dbc1-c9540d2cdad1"
      },
      "outputs": [
        {
          "data": {
            "text/plain": [
              "tensor([2, 3, 4, 5, 6])"
            ]
          },
          "execution_count": 34,
          "metadata": {},
          "output_type": "execute_result"
        }
      ],
      "source": [
        "z = z.get()\n",
        "z"
      ]
    },
    {
      "cell_type": "code",
      "execution_count": null,
      "metadata": {
        "id": "T8M0HKvV2icf"
      },
      "outputs": [],
      "source": [
        "x = th.tensor([1.,2,3,4,5], requires_grad=True).send(bob)\n",
        "y = th.tensor([1.,1,1,1,1], requires_grad=True).send(bob)"
      ]
    },
    {
      "cell_type": "code",
      "execution_count": null,
      "metadata": {
        "id": "nF3Sa04s2icg"
      },
      "outputs": [],
      "source": [
        "z = (x + y).sum()"
      ]
    },
    {
      "cell_type": "code",
      "execution_count": null,
      "metadata": {
        "id": "ra9mNoua2icg",
        "outputId": "ea990b0a-dc45-4fcb-8990-a8bf6a0d2cb6"
      },
      "outputs": [
        {
          "data": {
            "text/plain": [
              "(Wrapper)>[PointerTensor | me:88506756706 -> bob:8605706381]"
            ]
          },
          "execution_count": 84,
          "metadata": {},
          "output_type": "execute_result"
        }
      ],
      "source": [
        "# we can apply to it back propagation\n",
        "z.backward()"
      ]
    },
    {
      "cell_type": "code",
      "execution_count": null,
      "metadata": {
        "id": "Y1LNmVrj2icg"
      },
      "outputs": [],
      "source": [
        "x = x.get()"
      ]
    },
    {
      "cell_type": "code",
      "execution_count": null,
      "metadata": {
        "id": "u5YG6SRR2ich",
        "outputId": "34290358-d8ad-402f-ee49-1136aeff031a"
      },
      "outputs": [
        {
          "data": {
            "text/plain": [
              "tensor([1., 2., 3., 4., 5.], requires_grad=True)"
            ]
          },
          "execution_count": 86,
          "metadata": {},
          "output_type": "execute_result"
        }
      ],
      "source": [
        "x"
      ]
    },
    {
      "cell_type": "code",
      "execution_count": null,
      "metadata": {
        "id": "cA98T4Hq2ich",
        "outputId": "9554ffdb-5c90-4eb0-a0f6-73b4ef5d2f2b"
      },
      "outputs": [
        {
          "data": {
            "text/plain": [
              "tensor([1., 1., 1., 1., 1.])"
            ]
          },
          "execution_count": 40,
          "metadata": {},
          "output_type": "execute_result"
        }
      ],
      "source": [
        "x.grad"
      ]
    },
    {
      "cell_type": "code",
      "execution_count": null,
      "metadata": {
        "id": "CqLAt_0v2ici"
      },
      "outputs": [],
      "source": []
    },
    {
      "cell_type": "markdown",
      "metadata": {
        "id": "R5U9aEa92ici"
      },
      "source": [
        "# Project: Learn a Simple Linear Model\n",
        "\n",
        "In this project, I'd like for you to create a simple linear model which will solve for the following dataset below. You should use only Variables and .backward() to do so (no optimizers or nn.Modules). Furthermore, you must do so with both the data and the model being located on Bob's machine."
      ]
    },
    {
      "cell_type": "code",
      "execution_count": null,
      "metadata": {
        "id": "bvEx_tuk2ici"
      },
      "outputs": [],
      "source": [
        "# try this project here!"
      ]
    },
    {
      "cell_type": "code",
      "execution_count": null,
      "metadata": {
        "id": "rvGtjWdI2ici"
      },
      "outputs": [],
      "source": [
        "input = th.tensor([[1.,1],[0,1,],[1,0],[0,0]], requires_grad=True).send(bob)\n",
        "target = th.tensor([[1.],[1],[0],[0]], requires_grad=True).send(bob)"
      ]
    },
    {
      "cell_type": "code",
      "execution_count": null,
      "metadata": {
        "id": "7y51JQru2icj"
      },
      "outputs": [],
      "source": [
        "weights = th.tensor([[0.],[0.]], requires_grad=True).send(bob)"
      ]
    },
    {
      "cell_type": "code",
      "execution_count": null,
      "metadata": {
        "id": "lNvZt8tq2icn",
        "outputId": "16cb5da6-541b-42f4-9a52-62960c93b6e7"
      },
      "outputs": [
        {
          "name": "stdout",
          "output_type": "stream",
          "text": [
            "tensor(2.)\n",
            "tensor(0.5600)\n",
            "tensor(0.2432)\n",
            "tensor(0.1372)\n",
            "tensor(0.0849)\n",
            "tensor(0.0538)\n",
            "tensor(0.0344)\n",
            "tensor(0.0220)\n",
            "tensor(0.0141)\n",
            "tensor(0.0090)\n"
          ]
        }
      ],
      "source": [
        "for i in range(10):\n",
        "\n",
        "    pred = input.mm(weights)\n",
        "\n",
        "    loss = ((pred - target)**2).sum()\n",
        "\n",
        "    loss.backward()\n",
        "\n",
        "    weights.data.sub_(weights.grad * 0.1)\n",
        "    weights.grad *= 0\n",
        "\n",
        "    print(loss.get().data)"
      ]
    },
    {
      "cell_type": "code",
      "execution_count": null,
      "metadata": {
        "id": "nPvrbq6g2ico"
      },
      "outputs": [],
      "source": []
    },
    {
      "cell_type": "markdown",
      "metadata": {
        "id": "C1Rn3p_h2ico"
      },
      "source": [
        "# Lesson: Garbage Collection and Common Errors\n"
      ]
    },
    {
      "cell_type": "code",
      "execution_count": null,
      "metadata": {
        "id": "y8dw42GL2ico"
      },
      "outputs": [],
      "source": [
        "bob = bob.clear_objects()"
      ]
    },
    {
      "cell_type": "code",
      "execution_count": null,
      "metadata": {
        "id": "i2WLVzml2ico",
        "outputId": "8ee19207-e7ff-4c00-8daa-2337550d677d"
      },
      "outputs": [
        {
          "data": {
            "text/plain": [
              "{}"
            ]
          },
          "execution_count": 111,
          "metadata": {},
          "output_type": "execute_result"
        }
      ],
      "source": [
        "bob._objects"
      ]
    },
    {
      "cell_type": "code",
      "execution_count": null,
      "metadata": {
        "id": "VVxhv0DT2icp"
      },
      "outputs": [],
      "source": [
        "x = th.tensor([1,2,3,4,5]).send(bob)"
      ]
    },
    {
      "cell_type": "code",
      "execution_count": null,
      "metadata": {
        "id": "4DotIGlr2icp",
        "outputId": "520090b5-d71c-4375-e2e3-1ab9772912c9"
      },
      "outputs": [
        {
          "data": {
            "text/plain": [
              "(Wrapper)>[PointerTensor | me:58488243854 -> bob:9451694665]"
            ]
          },
          "execution_count": 114,
          "metadata": {},
          "output_type": "execute_result"
        }
      ],
      "source": [
        "x"
      ]
    },
    {
      "cell_type": "code",
      "execution_count": null,
      "metadata": {
        "id": "Tosgn9Mv2icp",
        "outputId": "19bd1499-4610-44a0-ba60-ee71748208f9"
      },
      "outputs": [
        {
          "data": {
            "text/plain": [
              "{}"
            ]
          },
          "execution_count": 115,
          "metadata": {},
          "output_type": "execute_result"
        }
      ],
      "source": [
        "bob._objects"
      ]
    },
    {
      "cell_type": "code",
      "execution_count": null,
      "metadata": {
        "id": "RsZ4FxsS2icq"
      },
      "outputs": [],
      "source": [
        "del x"
      ]
    },
    {
      "cell_type": "code",
      "execution_count": null,
      "metadata": {
        "id": "5ibjI4JH2icq",
        "outputId": "f186ec2c-3bc1-44f9-ca58-12ed4aea02f8"
      },
      "outputs": [
        {
          "ename": "NameError",
          "evalue": "name 'x' is not defined",
          "output_type": "error",
          "traceback": [
            "\u001b[0;31m---------------------------------------------------------------------------\u001b[0m",
            "\u001b[0;31mNameError\u001b[0m                                 Traceback (most recent call last)",
            "\u001b[0;32m<ipython-input-117-6fcf9dfbd479>\u001b[0m in \u001b[0;36m<module>\u001b[0;34m\u001b[0m\n\u001b[0;32m----> 1\u001b[0;31m \u001b[0mx\u001b[0m\u001b[0;34m\u001b[0m\u001b[0;34m\u001b[0m\u001b[0m\n\u001b[0m",
            "\u001b[0;31mNameError\u001b[0m: name 'x' is not defined"
          ]
        }
      ],
      "source": [
        "x"
      ]
    },
    {
      "cell_type": "code",
      "execution_count": null,
      "metadata": {
        "id": "LWI7jfUn2icq",
        "outputId": "41d3c507-1d9b-41ba-b3ff-a42a681f4caf"
      },
      "outputs": [
        {
          "data": {
            "text/plain": [
              "{}"
            ]
          },
          "execution_count": 118,
          "metadata": {},
          "output_type": "execute_result"
        }
      ],
      "source": [
        "bob._objects"
      ]
    },
    {
      "cell_type": "code",
      "execution_count": null,
      "metadata": {
        "id": "zyk4QKHb2icr"
      },
      "outputs": [],
      "source": [
        "x = th.tensor([1,2,3,4,5]).send(bob)"
      ]
    },
    {
      "cell_type": "code",
      "execution_count": null,
      "metadata": {
        "id": "9erjbsAy2icr",
        "outputId": "db5230b3-d757-4c4d-bd30-97732d8442fb"
      },
      "outputs": [
        {
          "data": {
            "text/plain": [
              "{}"
            ]
          },
          "execution_count": 120,
          "metadata": {},
          "output_type": "execute_result"
        }
      ],
      "source": [
        "bob._objects"
      ]
    },
    {
      "cell_type": "code",
      "execution_count": null,
      "metadata": {
        "id": "wrbwEfMI2icr"
      },
      "outputs": [],
      "source": [
        "x = \"asdf\""
      ]
    },
    {
      "cell_type": "code",
      "execution_count": null,
      "metadata": {
        "id": "2uX3FPyz2ics",
        "outputId": "9d5895a5-1ac1-4a77-8e6f-4ebef94de814"
      },
      "outputs": [
        {
          "data": {
            "text/plain": [
              "{}"
            ]
          },
          "execution_count": 122,
          "metadata": {},
          "output_type": "execute_result"
        }
      ],
      "source": [
        "bob._objects"
      ]
    },
    {
      "cell_type": "code",
      "execution_count": null,
      "metadata": {
        "id": "Xa26_fMp2ics"
      },
      "outputs": [],
      "source": [
        "x = th.tensor([1,2,3,4,5]).send(bob)"
      ]
    },
    {
      "cell_type": "code",
      "execution_count": null,
      "metadata": {
        "id": "dRRjk4e52ics",
        "outputId": "59e6bd90-b526-41aa-ad4a-59ad57246448"
      },
      "outputs": [
        {
          "data": {
            "text/plain": [
              "(Wrapper)>[PointerTensor | me:28180650759 -> bob:26751647266]"
            ]
          },
          "execution_count": 124,
          "metadata": {},
          "output_type": "execute_result"
        }
      ],
      "source": [
        "x"
      ]
    },
    {
      "cell_type": "code",
      "execution_count": null,
      "metadata": {
        "id": "kk57cbGK2ict",
        "outputId": "1a6788ac-ecb6-46f3-b05d-811c687b2901"
      },
      "outputs": [
        {
          "data": {
            "text/plain": [
              "{49166137090: tensor([1, 2, 3, 4, 5])}"
            ]
          },
          "execution_count": 56,
          "metadata": {},
          "output_type": "execute_result"
        }
      ],
      "source": [
        "bob._objects"
      ]
    },
    {
      "cell_type": "code",
      "execution_count": null,
      "metadata": {
        "id": "0QgUQWdc2ict"
      },
      "outputs": [],
      "source": [
        "x = \"asdf\""
      ]
    },
    {
      "cell_type": "code",
      "execution_count": null,
      "metadata": {
        "id": "ZnO7tW3g2ict",
        "outputId": "f54c0eef-2497-45c3-dbd3-3c4d1b83cc01"
      },
      "outputs": [
        {
          "data": {
            "text/plain": [
              "{}"
            ]
          },
          "execution_count": 125,
          "metadata": {},
          "output_type": "execute_result"
        }
      ],
      "source": [
        "bob._objects"
      ]
    },
    {
      "cell_type": "code",
      "execution_count": null,
      "metadata": {
        "id": "lJkp9VEY2icu"
      },
      "outputs": [],
      "source": [
        "del x"
      ]
    },
    {
      "cell_type": "code",
      "execution_count": null,
      "metadata": {
        "id": "P6FqVOAC2icu",
        "outputId": "ed1b21e6-459a-4132-e845-29175ee881f1"
      },
      "outputs": [
        {
          "data": {
            "text/plain": [
              "{}"
            ]
          },
          "execution_count": 127,
          "metadata": {},
          "output_type": "execute_result"
        }
      ],
      "source": [
        "bob._objects"
      ]
    },
    {
      "cell_type": "code",
      "execution_count": null,
      "metadata": {
        "id": "GvwLU3iZ2icu",
        "outputId": "75b85644-8d6d-446f-c0ed-7180b6d762b5"
      },
      "outputs": [
        {
          "data": {
            "text/plain": [
              "{}"
            ]
          },
          "execution_count": 128,
          "metadata": {},
          "output_type": "execute_result"
        }
      ],
      "source": [
        "bob = bob.clear_objects()\n",
        "bob._objects"
      ]
    },
    {
      "cell_type": "code",
      "execution_count": null,
      "metadata": {
        "id": "qGhOXrY42icu"
      },
      "outputs": [],
      "source": [
        "for i in range(1000):\n",
        "    x = th.tensor([1,2,3,4,5]).send(bob)"
      ]
    },
    {
      "cell_type": "code",
      "execution_count": null,
      "metadata": {
        "id": "URBXc9lx2icv",
        "outputId": "1980c0a3-0346-4531-8040-9829f333f3c5"
      },
      "outputs": [
        {
          "data": {
            "text/plain": [
              "{}"
            ]
          },
          "execution_count": 130,
          "metadata": {},
          "output_type": "execute_result"
        }
      ],
      "source": [
        "bob._objects"
      ]
    },
    {
      "cell_type": "code",
      "execution_count": null,
      "metadata": {
        "id": "eq6wrXtN2icv"
      },
      "outputs": [],
      "source": [
        "x = th.tensor([1,2,3,4,5]).send(bob)\n",
        "y = th.tensor([1,1,1,1,1])"
      ]
    },
    {
      "cell_type": "code",
      "execution_count": null,
      "metadata": {
        "id": "eINEBo7-2icv",
        "outputId": "bf554271-71cb-422e-a8e4-87ac39aed351"
      },
      "outputs": [
        {
          "ename": "TensorsNotCollocatedException",
          "evalue": "You tried to call a method involving two tensors where one tensor is actually locatedon another machine (is a PointerTensor). Call .get() on the PointerTensor or .send(bob) on the other tensor.\n\nTensor A: [PointerTensor | me:74187076482 -> bob:76315476733]\nTensor B: tensor([1, 1, 1, 1, 1])",
          "output_type": "error",
          "traceback": [
            "\u001b[0;31m---------------------------------------------------------------------------\u001b[0m",
            "\u001b[0;31mPureTorchTensorFoundError\u001b[0m                 Traceback (most recent call last)",
            "\u001b[0;32m/anaconda3/envs/pysyft/lib/python3.6/site-packages/syft/frameworks/torch/hook/hook.py\u001b[0m in \u001b[0;36moverloaded_native_method\u001b[0;34m(self, *args, **kwargs)\u001b[0m\n\u001b[1;32m    665\u001b[0m                     new_self, new_args, new_kwargs = syft.frameworks.torch.hook_args.hook_method_args(\n\u001b[0;32m--> 666\u001b[0;31m                         \u001b[0mmethod_name\u001b[0m\u001b[0;34m,\u001b[0m \u001b[0mself\u001b[0m\u001b[0;34m,\u001b[0m \u001b[0margs\u001b[0m\u001b[0;34m,\u001b[0m \u001b[0mkwargs\u001b[0m\u001b[0;34m\u001b[0m\u001b[0;34m\u001b[0m\u001b[0m\n\u001b[0m\u001b[1;32m    667\u001b[0m                     )\n",
            "\u001b[0;32m/anaconda3/envs/pysyft/lib/python3.6/site-packages/syft/frameworks/torch/hook/hook_args.py\u001b[0m in \u001b[0;36mhook_method_args\u001b[0;34m(attr, method_self, args, kwargs)\u001b[0m\n\u001b[1;32m    121\u001b[0m         \u001b[0;31m# Try running it\u001b[0m\u001b[0;34m\u001b[0m\u001b[0;34m\u001b[0m\u001b[0;34m\u001b[0m\u001b[0m\n\u001b[0;32m--> 122\u001b[0;31m         \u001b[0mnew_self\u001b[0m\u001b[0;34m,\u001b[0m \u001b[0mnew_args\u001b[0m \u001b[0;34m=\u001b[0m \u001b[0mhook_args\u001b[0m\u001b[0;34m(\u001b[0m\u001b[0;34m(\u001b[0m\u001b[0mmethod_self\u001b[0m\u001b[0;34m,\u001b[0m \u001b[0margs\u001b[0m\u001b[0;34m)\u001b[0m\u001b[0;34m)\u001b[0m\u001b[0;34m\u001b[0m\u001b[0;34m\u001b[0m\u001b[0m\n\u001b[0m\u001b[1;32m    123\u001b[0m \u001b[0;34m\u001b[0m\u001b[0m\n",
            "\u001b[0;32m/anaconda3/envs/pysyft/lib/python3.6/site-packages/syft/frameworks/torch/hook/hook_args.py\u001b[0m in \u001b[0;36m<lambda>\u001b[0;34m(x)\u001b[0m\n\u001b[1;32m    350\u001b[0m \u001b[0;34m\u001b[0m\u001b[0m\n\u001b[0;32m--> 351\u001b[0;31m     \u001b[0;32mreturn\u001b[0m \u001b[0;32mlambda\u001b[0m \u001b[0mx\u001b[0m\u001b[0;34m:\u001b[0m \u001b[0mf\u001b[0m\u001b[0;34m(\u001b[0m\u001b[0mlambdas\u001b[0m\u001b[0;34m,\u001b[0m \u001b[0mx\u001b[0m\u001b[0;34m)\u001b[0m\u001b[0;34m\u001b[0m\u001b[0;34m\u001b[0m\u001b[0m\n\u001b[0m\u001b[1;32m    352\u001b[0m \u001b[0;34m\u001b[0m\u001b[0m\n",
            "\u001b[0;32m/anaconda3/envs/pysyft/lib/python3.6/site-packages/syft/frameworks/torch/hook/hook_args.py\u001b[0m in \u001b[0;36mtwo_fold\u001b[0;34m(lambdas, args, **kwargs)\u001b[0m\n\u001b[1;32m    515\u001b[0m \u001b[0;32mdef\u001b[0m \u001b[0mtwo_fold\u001b[0m\u001b[0;34m(\u001b[0m\u001b[0mlambdas\u001b[0m\u001b[0;34m,\u001b[0m \u001b[0margs\u001b[0m\u001b[0;34m,\u001b[0m \u001b[0;34m**\u001b[0m\u001b[0mkwargs\u001b[0m\u001b[0;34m)\u001b[0m\u001b[0;34m:\u001b[0m\u001b[0;34m\u001b[0m\u001b[0;34m\u001b[0m\u001b[0m\n\u001b[0;32m--> 516\u001b[0;31m     \u001b[0;32mreturn\u001b[0m \u001b[0mlambdas\u001b[0m\u001b[0;34m[\u001b[0m\u001b[0;36m0\u001b[0m\u001b[0;34m]\u001b[0m\u001b[0;34m(\u001b[0m\u001b[0margs\u001b[0m\u001b[0;34m[\u001b[0m\u001b[0;36m0\u001b[0m\u001b[0;34m]\u001b[0m\u001b[0;34m,\u001b[0m \u001b[0;34m**\u001b[0m\u001b[0mkwargs\u001b[0m\u001b[0;34m)\u001b[0m\u001b[0;34m,\u001b[0m \u001b[0mlambdas\u001b[0m\u001b[0;34m[\u001b[0m\u001b[0;36m1\u001b[0m\u001b[0;34m]\u001b[0m\u001b[0;34m(\u001b[0m\u001b[0margs\u001b[0m\u001b[0;34m[\u001b[0m\u001b[0;36m1\u001b[0m\u001b[0;34m]\u001b[0m\u001b[0;34m,\u001b[0m \u001b[0;34m**\u001b[0m\u001b[0mkwargs\u001b[0m\u001b[0;34m)\u001b[0m\u001b[0;34m\u001b[0m\u001b[0;34m\u001b[0m\u001b[0m\n\u001b[0m\u001b[1;32m    517\u001b[0m \u001b[0;34m\u001b[0m\u001b[0m\n",
            "\u001b[0;32m/anaconda3/envs/pysyft/lib/python3.6/site-packages/syft/frameworks/torch/hook/hook_args.py\u001b[0m in \u001b[0;36m<lambda>\u001b[0;34m(x)\u001b[0m\n\u001b[1;32m    350\u001b[0m \u001b[0;34m\u001b[0m\u001b[0m\n\u001b[0;32m--> 351\u001b[0;31m     \u001b[0;32mreturn\u001b[0m \u001b[0;32mlambda\u001b[0m \u001b[0mx\u001b[0m\u001b[0;34m:\u001b[0m \u001b[0mf\u001b[0m\u001b[0;34m(\u001b[0m\u001b[0mlambdas\u001b[0m\u001b[0;34m,\u001b[0m \u001b[0mx\u001b[0m\u001b[0;34m)\u001b[0m\u001b[0;34m\u001b[0m\u001b[0;34m\u001b[0m\u001b[0m\n\u001b[0m\u001b[1;32m    352\u001b[0m \u001b[0;34m\u001b[0m\u001b[0m\n",
            "\u001b[0;32m/anaconda3/envs/pysyft/lib/python3.6/site-packages/syft/frameworks/torch/hook/hook_args.py\u001b[0m in \u001b[0;36mtuple_one_fold\u001b[0;34m(lambdas, args)\u001b[0m\n\u001b[1;32m    509\u001b[0m     \u001b[0;32mdef\u001b[0m \u001b[0mtuple_one_fold\u001b[0m\u001b[0;34m(\u001b[0m\u001b[0mlambdas\u001b[0m\u001b[0;34m,\u001b[0m \u001b[0margs\u001b[0m\u001b[0;34m)\u001b[0m\u001b[0;34m:\u001b[0m\u001b[0;34m\u001b[0m\u001b[0;34m\u001b[0m\u001b[0m\n\u001b[0;32m--> 510\u001b[0;31m         \u001b[0;32mreturn\u001b[0m \u001b[0;34m(\u001b[0m\u001b[0mlambdas\u001b[0m\u001b[0;34m[\u001b[0m\u001b[0;36m0\u001b[0m\u001b[0;34m]\u001b[0m\u001b[0;34m(\u001b[0m\u001b[0margs\u001b[0m\u001b[0;34m[\u001b[0m\u001b[0;36m0\u001b[0m\u001b[0;34m]\u001b[0m\u001b[0;34m,\u001b[0m \u001b[0;34m**\u001b[0m\u001b[0mkwargs\u001b[0m\u001b[0;34m)\u001b[0m\u001b[0;34m,\u001b[0m\u001b[0;34m)\u001b[0m\u001b[0;34m\u001b[0m\u001b[0;34m\u001b[0m\u001b[0m\n\u001b[0m\u001b[1;32m    511\u001b[0m \u001b[0;34m\u001b[0m\u001b[0m\n",
            "\u001b[0;32m/anaconda3/envs/pysyft/lib/python3.6/site-packages/syft/frameworks/torch/hook/hook_args.py\u001b[0m in \u001b[0;36m<lambda>\u001b[0;34m(i)\u001b[0m\n\u001b[1;32m    328\u001b[0m         \u001b[0;31m# Last if not, rule is probably == 1 so use type to return the right transformation.\u001b[0m\u001b[0;34m\u001b[0m\u001b[0;34m\u001b[0m\u001b[0;34m\u001b[0m\u001b[0m\n\u001b[0;32m--> 329\u001b[0;31m         \u001b[0;32melse\u001b[0m \u001b[0;32mlambda\u001b[0m \u001b[0mi\u001b[0m\u001b[0;34m:\u001b[0m \u001b[0mforward_func\u001b[0m\u001b[0;34m[\u001b[0m\u001b[0mtype\u001b[0m\u001b[0;34m(\u001b[0m\u001b[0mi\u001b[0m\u001b[0;34m)\u001b[0m\u001b[0;34m]\u001b[0m\u001b[0;34m(\u001b[0m\u001b[0mi\u001b[0m\u001b[0;34m)\u001b[0m\u001b[0;34m\u001b[0m\u001b[0;34m\u001b[0m\u001b[0m\n\u001b[0m\u001b[1;32m    330\u001b[0m         \u001b[0;32mfor\u001b[0m \u001b[0ma\u001b[0m\u001b[0;34m,\u001b[0m \u001b[0mr\u001b[0m \u001b[0;32min\u001b[0m \u001b[0mzip\u001b[0m\u001b[0;34m(\u001b[0m\u001b[0margs\u001b[0m\u001b[0;34m,\u001b[0m \u001b[0mrules\u001b[0m\u001b[0;34m)\u001b[0m  \u001b[0;31m# And do this for all the args / rules provided\u001b[0m\u001b[0;34m\u001b[0m\u001b[0;34m\u001b[0m\u001b[0m\n",
            "\u001b[0;32m/anaconda3/envs/pysyft/lib/python3.6/site-packages/syft/frameworks/torch/hook/hook_args.py\u001b[0m in \u001b[0;36m<lambda>\u001b[0;34m(i)\u001b[0m\n\u001b[1;32m     55\u001b[0m     \u001b[0;32mif\u001b[0m \u001b[0mhasattr\u001b[0m\u001b[0;34m(\u001b[0m\u001b[0mi\u001b[0m\u001b[0;34m,\u001b[0m \u001b[0;34m\"child\"\u001b[0m\u001b[0;34m)\u001b[0m\u001b[0;34m\u001b[0m\u001b[0;34m\u001b[0m\u001b[0m\n\u001b[0;32m---> 56\u001b[0;31m     \u001b[0;32melse\u001b[0m \u001b[0;34m(\u001b[0m\u001b[0m_\u001b[0m \u001b[0;32mfor\u001b[0m \u001b[0m_\u001b[0m \u001b[0;32min\u001b[0m \u001b[0;34m(\u001b[0m\u001b[0;34m)\u001b[0m\u001b[0;34m)\u001b[0m\u001b[0;34m.\u001b[0m\u001b[0mthrow\u001b[0m\u001b[0;34m(\u001b[0m\u001b[0mPureTorchTensorFoundError\u001b[0m\u001b[0;34m)\u001b[0m\u001b[0;34m,\u001b[0m\u001b[0;34m\u001b[0m\u001b[0;34m\u001b[0m\u001b[0m\n\u001b[0m\u001b[1;32m     57\u001b[0m     \u001b[0mtorch\u001b[0m\u001b[0;34m.\u001b[0m\u001b[0mnn\u001b[0m\u001b[0;34m.\u001b[0m\u001b[0mParameter\u001b[0m\u001b[0;34m:\u001b[0m \u001b[0;32mlambda\u001b[0m \u001b[0mi\u001b[0m\u001b[0;34m:\u001b[0m \u001b[0mi\u001b[0m\u001b[0;34m.\u001b[0m\u001b[0mchild\u001b[0m\u001b[0;34m\u001b[0m\u001b[0;34m\u001b[0m\u001b[0m\n",
            "\u001b[0;32m/anaconda3/envs/pysyft/lib/python3.6/site-packages/syft/frameworks/torch/hook/hook_args.py\u001b[0m in \u001b[0;36m<genexpr>\u001b[0;34m(.0)\u001b[0m\n\u001b[1;32m     55\u001b[0m     \u001b[0;32mif\u001b[0m \u001b[0mhasattr\u001b[0m\u001b[0;34m(\u001b[0m\u001b[0mi\u001b[0m\u001b[0;34m,\u001b[0m \u001b[0;34m\"child\"\u001b[0m\u001b[0;34m)\u001b[0m\u001b[0;34m\u001b[0m\u001b[0;34m\u001b[0m\u001b[0m\n\u001b[0;32m---> 56\u001b[0;31m     \u001b[0;32melse\u001b[0m \u001b[0;34m(\u001b[0m\u001b[0m_\u001b[0m \u001b[0;32mfor\u001b[0m \u001b[0m_\u001b[0m \u001b[0;32min\u001b[0m \u001b[0;34m(\u001b[0m\u001b[0;34m)\u001b[0m\u001b[0;34m)\u001b[0m\u001b[0;34m.\u001b[0m\u001b[0mthrow\u001b[0m\u001b[0;34m(\u001b[0m\u001b[0mPureTorchTensorFoundError\u001b[0m\u001b[0;34m)\u001b[0m\u001b[0;34m,\u001b[0m\u001b[0;34m\u001b[0m\u001b[0;34m\u001b[0m\u001b[0m\n\u001b[0m\u001b[1;32m     57\u001b[0m     \u001b[0mtorch\u001b[0m\u001b[0;34m.\u001b[0m\u001b[0mnn\u001b[0m\u001b[0;34m.\u001b[0m\u001b[0mParameter\u001b[0m\u001b[0;34m:\u001b[0m \u001b[0;32mlambda\u001b[0m \u001b[0mi\u001b[0m\u001b[0;34m:\u001b[0m \u001b[0mi\u001b[0m\u001b[0;34m.\u001b[0m\u001b[0mchild\u001b[0m\u001b[0;34m\u001b[0m\u001b[0;34m\u001b[0m\u001b[0m\n",
            "\u001b[0;31mPureTorchTensorFoundError\u001b[0m: ",
            "\nDuring handling of the above exception, another exception occurred:\n",
            "\u001b[0;31mTensorsNotCollocatedException\u001b[0m             Traceback (most recent call last)",
            "\u001b[0;32m<ipython-input-132-8c8f78e0676d>\u001b[0m in \u001b[0;36m<module>\u001b[0;34m\u001b[0m\n\u001b[0;32m----> 1\u001b[0;31m \u001b[0mz\u001b[0m \u001b[0;34m=\u001b[0m \u001b[0mx\u001b[0m \u001b[0;34m+\u001b[0m \u001b[0my\u001b[0m\u001b[0;34m\u001b[0m\u001b[0;34m\u001b[0m\u001b[0m\n\u001b[0m",
            "\u001b[0;32m/anaconda3/envs/pysyft/lib/python3.6/site-packages/syft/frameworks/torch/hook/hook.py\u001b[0m in \u001b[0;36moverloaded_native_method\u001b[0;34m(self, *args, **kwargs)\u001b[0m\n\u001b[1;32m    668\u001b[0m                 \u001b[0;32mexcept\u001b[0m \u001b[0mBaseException\u001b[0m \u001b[0;32mas\u001b[0m \u001b[0me\u001b[0m\u001b[0;34m:\u001b[0m\u001b[0;34m\u001b[0m\u001b[0;34m\u001b[0m\u001b[0m\n\u001b[1;32m    669\u001b[0m                     \u001b[0;31m# we can make some errors more descriptive with this method\u001b[0m\u001b[0;34m\u001b[0m\u001b[0;34m\u001b[0m\u001b[0;34m\u001b[0m\u001b[0m\n\u001b[0;32m--> 670\u001b[0;31m                     \u001b[0;32mraise\u001b[0m \u001b[0mroute_method_exception\u001b[0m\u001b[0;34m(\u001b[0m\u001b[0me\u001b[0m\u001b[0;34m,\u001b[0m \u001b[0mself\u001b[0m\u001b[0;34m,\u001b[0m \u001b[0margs\u001b[0m\u001b[0;34m,\u001b[0m \u001b[0mkwargs\u001b[0m\u001b[0;34m)\u001b[0m\u001b[0;34m\u001b[0m\u001b[0;34m\u001b[0m\u001b[0m\n\u001b[0m\u001b[1;32m    671\u001b[0m \u001b[0;34m\u001b[0m\u001b[0m\n\u001b[1;32m    672\u001b[0m                 \u001b[0;31m# Send the new command to the appropriate class and get the response\u001b[0m\u001b[0;34m\u001b[0m\u001b[0;34m\u001b[0m\u001b[0;34m\u001b[0m\u001b[0m\n",
            "\u001b[0;31mTensorsNotCollocatedException\u001b[0m: You tried to call a method involving two tensors where one tensor is actually locatedon another machine (is a PointerTensor). Call .get() on the PointerTensor or .send(bob) on the other tensor.\n\nTensor A: [PointerTensor | me:74187076482 -> bob:76315476733]\nTensor B: tensor([1, 1, 1, 1, 1])"
          ]
        }
      ],
      "source": [
        "z = x + y"
      ]
    },
    {
      "cell_type": "code",
      "execution_count": null,
      "metadata": {
        "id": "QWLXbhWM2icw"
      },
      "outputs": [],
      "source": [
        "x = th.tensor([1,2,3,4,5]).send(bob)\n",
        "y = th.tensor([1,1,1,1,1]).send(alice)"
      ]
    },
    {
      "cell_type": "code",
      "execution_count": null,
      "metadata": {
        "id": "rpvltW2e2icw",
        "outputId": "79bd8164-7a71-4bf4-9918-4af76c574e0d"
      },
      "outputs": [
        {
          "ename": "TensorsNotCollocatedException",
          "evalue": "You tried to call __add__ involving two tensors which are not on the same machine! One tensor is on <VirtualWorker id:bob #objects:0> while the other is on <VirtualWorker id:alice #objects:1>. Use a combination of .move(), .get(), and/or .send() to co-locate them to the same machine.",
          "output_type": "error",
          "traceback": [
            "\u001b[0;31m---------------------------------------------------------------------------\u001b[0m",
            "\u001b[0;31mTensorsNotCollocatedException\u001b[0m             Traceback (most recent call last)",
            "\u001b[0;32m<ipython-input-134-8c8f78e0676d>\u001b[0m in \u001b[0;36m<module>\u001b[0;34m\u001b[0m\n\u001b[0;32m----> 1\u001b[0;31m \u001b[0mz\u001b[0m \u001b[0;34m=\u001b[0m \u001b[0mx\u001b[0m \u001b[0;34m+\u001b[0m \u001b[0my\u001b[0m\u001b[0;34m\u001b[0m\u001b[0;34m\u001b[0m\u001b[0m\n\u001b[0m",
            "\u001b[0;32m/anaconda3/envs/pysyft/lib/python3.6/site-packages/syft/frameworks/torch/hook/hook.py\u001b[0m in \u001b[0;36moverloaded_native_method\u001b[0;34m(self, *args, **kwargs)\u001b[0m\n\u001b[1;32m    672\u001b[0m                 \u001b[0;31m# Send the new command to the appropriate class and get the response\u001b[0m\u001b[0;34m\u001b[0m\u001b[0;34m\u001b[0m\u001b[0;34m\u001b[0m\u001b[0m\n\u001b[1;32m    673\u001b[0m                 \u001b[0mmethod\u001b[0m \u001b[0;34m=\u001b[0m \u001b[0mgetattr\u001b[0m\u001b[0;34m(\u001b[0m\u001b[0mnew_self\u001b[0m\u001b[0;34m,\u001b[0m \u001b[0mmethod_name\u001b[0m\u001b[0;34m)\u001b[0m\u001b[0;34m\u001b[0m\u001b[0;34m\u001b[0m\u001b[0m\n\u001b[0;32m--> 674\u001b[0;31m                 \u001b[0mresponse\u001b[0m \u001b[0;34m=\u001b[0m \u001b[0mmethod\u001b[0m\u001b[0;34m(\u001b[0m\u001b[0;34m*\u001b[0m\u001b[0mnew_args\u001b[0m\u001b[0;34m,\u001b[0m \u001b[0;34m**\u001b[0m\u001b[0mnew_kwargs\u001b[0m\u001b[0;34m)\u001b[0m\u001b[0;34m\u001b[0m\u001b[0;34m\u001b[0m\u001b[0m\n\u001b[0m\u001b[1;32m    675\u001b[0m \u001b[0;34m\u001b[0m\u001b[0m\n\u001b[1;32m    676\u001b[0m                 \u001b[0;31m# For inplace methods, just directly return self\u001b[0m\u001b[0;34m\u001b[0m\u001b[0;34m\u001b[0m\u001b[0;34m\u001b[0m\u001b[0m\n",
            "\u001b[0;32m/anaconda3/envs/pysyft/lib/python3.6/site-packages/syft/frameworks/torch/hook/hook.py\u001b[0m in \u001b[0;36moverloaded_pointer_method\u001b[0;34m(self, *args, **kwargs)\u001b[0m\n\u001b[1;32m    503\u001b[0m                 \u001b[0;32mif\u001b[0m \u001b[0misinstance\u001b[0m\u001b[0;34m(\u001b[0m\u001b[0margs\u001b[0m\u001b[0;34m[\u001b[0m\u001b[0;36m0\u001b[0m\u001b[0;34m]\u001b[0m\u001b[0;34m,\u001b[0m \u001b[0mPointerTensor\u001b[0m\u001b[0;34m)\u001b[0m\u001b[0;34m:\u001b[0m\u001b[0;34m\u001b[0m\u001b[0;34m\u001b[0m\u001b[0m\n\u001b[1;32m    504\u001b[0m                     \u001b[0;32mif\u001b[0m \u001b[0margs\u001b[0m\u001b[0;34m[\u001b[0m\u001b[0;36m0\u001b[0m\u001b[0;34m]\u001b[0m\u001b[0;34m.\u001b[0m\u001b[0mlocation\u001b[0m\u001b[0;34m.\u001b[0m\u001b[0mid\u001b[0m \u001b[0;34m!=\u001b[0m \u001b[0mlocation\u001b[0m\u001b[0;34m.\u001b[0m\u001b[0mid\u001b[0m\u001b[0;34m:\u001b[0m\u001b[0;34m\u001b[0m\u001b[0;34m\u001b[0m\u001b[0m\n\u001b[0;32m--> 505\u001b[0;31m                         \u001b[0;32mraise\u001b[0m \u001b[0mTensorsNotCollocatedException\u001b[0m\u001b[0;34m(\u001b[0m\u001b[0mpointer\u001b[0m\u001b[0;34m,\u001b[0m \u001b[0margs\u001b[0m\u001b[0;34m[\u001b[0m\u001b[0;36m0\u001b[0m\u001b[0;34m]\u001b[0m\u001b[0;34m,\u001b[0m \u001b[0mattr\u001b[0m\u001b[0;34m)\u001b[0m\u001b[0;34m\u001b[0m\u001b[0;34m\u001b[0m\u001b[0m\n\u001b[0m\u001b[1;32m    506\u001b[0m \u001b[0;34m\u001b[0m\u001b[0m\n\u001b[1;32m    507\u001b[0m             \u001b[0;31m# Send the command\u001b[0m\u001b[0;34m\u001b[0m\u001b[0;34m\u001b[0m\u001b[0;34m\u001b[0m\u001b[0m\n",
            "\u001b[0;31mTensorsNotCollocatedException\u001b[0m: You tried to call __add__ involving two tensors which are not on the same machine! One tensor is on <VirtualWorker id:bob #objects:0> while the other is on <VirtualWorker id:alice #objects:1>. Use a combination of .move(), .get(), and/or .send() to co-locate them to the same machine."
          ]
        }
      ],
      "source": [
        "z = x + y"
      ]
    },
    {
      "cell_type": "code",
      "execution_count": null,
      "metadata": {
        "id": "KtiH0BjK2icw"
      },
      "outputs": [],
      "source": []
    },
    {
      "cell_type": "markdown",
      "metadata": {
        "id": "cXwRI1ow2icw"
      },
      "source": [
        "# Lesson: Toy Federated Learning\n",
        "\n",
        "Let's start by training a toy model the centralized way. This is about a simple as models get. We first need:\n",
        "\n",
        "- a toy dataset\n",
        "- a model\n",
        "- some basic training logic for training a model to fit the data."
      ]
    },
    {
      "cell_type": "code",
      "execution_count": null,
      "metadata": {
        "id": "mvSROhWP2icx",
        "outputId": "5cdf7fc8-9de1-4574-da17-429e8ca4e6f8"
      },
      "outputs": [
        {
          "name": "stderr",
          "output_type": "stream",
          "text": [
            "WARNING: Logging before flag parsing goes to stderr.\n",
            "W0708 17:12:10.725677 4516472256 secure_random.py:26] Falling back to insecure randomness since the required custom op could not be found for the installed version of TensorFlow. Fix this by compiling custom ops. Missing file was '/anaconda3/envs/pysyft/lib/python3.6/site-packages/tf_encrypted/operations/secure_random/secure_random_module_tf_1.14.0.so'\n",
            "W0708 17:12:10.747699 4516472256 deprecation_wrapper.py:119] From /anaconda3/envs/pysyft/lib/python3.6/site-packages/tf_encrypted/session.py:26: The name tf.Session is deprecated. Please use tf.compat.v1.Session instead.\n",
            "\n"
          ]
        }
      ],
      "source": [
        "import torch as th\n",
        "import syft as sy\n",
        "\n",
        "hook = sy.TorchHook(th)\n",
        "bob = sy.VirtualWorker(hook, id=\"bob\")\n",
        "alice = sy.VirtualWorker(hook, id=\"alice\")"
      ]
    },
    {
      "cell_type": "code",
      "execution_count": null,
      "metadata": {
        "id": "AYxIJy9N2icx"
      },
      "outputs": [],
      "source": [
        "from torch import nn, optim"
      ]
    },
    {
      "cell_type": "code",
      "execution_count": null,
      "metadata": {
        "id": "8CRs0T7A2icx"
      },
      "outputs": [],
      "source": [
        "# A Toy Dataset\n",
        "data = th.tensor([[1.,1],[0,1],[1,0],[0,0]], requires_grad=True)\n",
        "target = th.tensor([[1.],[1], [0], [0]], requires_grad=True)"
      ]
    },
    {
      "cell_type": "code",
      "execution_count": null,
      "metadata": {
        "id": "8g4HyGYM2icy"
      },
      "outputs": [],
      "source": [
        "# A Toy Model\n",
        "model = nn.Linear(2,1)"
      ]
    },
    {
      "cell_type": "code",
      "execution_count": null,
      "metadata": {
        "id": "6KJ4T2GM2icy"
      },
      "outputs": [],
      "source": [
        "opt = optim.SGD(params=model.parameters(), lr=0.1)"
      ]
    },
    {
      "cell_type": "code",
      "execution_count": null,
      "metadata": {
        "id": "JdUynxTW2icy",
        "outputId": "20ab38fb-13f9-424c-bd56-f55c9155a357"
      },
      "outputs": [
        {
          "name": "stdout",
          "output_type": "stream",
          "text": [
            "tensor(9.6193)\n",
            "tensor(0.9932)\n",
            "tensor(0.2714)\n",
            "tensor(0.1651)\n",
            "tensor(0.1194)\n",
            "tensor(0.0885)\n",
            "tensor(0.0660)\n",
            "tensor(0.0494)\n",
            "tensor(0.0371)\n",
            "tensor(0.0279)\n",
            "tensor(0.0210)\n",
            "tensor(0.0159)\n",
            "tensor(0.0121)\n",
            "tensor(0.0091)\n",
            "tensor(0.0069)\n",
            "tensor(0.0053)\n",
            "tensor(0.0040)\n",
            "tensor(0.0031)\n",
            "tensor(0.0023)\n",
            "tensor(0.0018)\n"
          ]
        }
      ],
      "source": [
        "def train(iterations=20):\n",
        "    for iter in range(iterations):\n",
        "        opt.zero_grad()\n",
        "\n",
        "        pred = model(data)\n",
        "\n",
        "        loss = ((pred - target)**2).sum()\n",
        "\n",
        "        loss.backward()\n",
        "\n",
        "        opt.step()\n",
        "\n",
        "        print(loss.data)\n",
        "\n",
        "train()"
      ]
    },
    {
      "cell_type": "code",
      "execution_count": null,
      "metadata": {
        "id": "buEPtjj-2icy"
      },
      "outputs": [],
      "source": [
        "data_bob = data[0:2].send(bob)\n",
        "target_bob = target[0:2].send(bob)"
      ]
    },
    {
      "cell_type": "code",
      "execution_count": null,
      "metadata": {
        "id": "OZ29BFY62icz"
      },
      "outputs": [],
      "source": [
        "data_alice = data[2:4].send(alice)\n",
        "target_alice = target[2:4].send(alice)"
      ]
    },
    {
      "cell_type": "code",
      "execution_count": null,
      "metadata": {
        "id": "tXkBL01U2icz"
      },
      "outputs": [],
      "source": [
        "datasets = [(data_bob, target_bob), (data_alice, target_alice)]"
      ]
    },
    {
      "cell_type": "code",
      "execution_count": null,
      "metadata": {
        "id": "O0S6b9Fa2icz"
      },
      "outputs": [],
      "source": [
        "def train(iterations=20):\n",
        "\n",
        "    model = nn.Linear(2,1)\n",
        "    opt = optim.SGD(params=model.parameters(), lr=0.1)\n",
        "\n",
        "    for iter in range(iterations):\n",
        "\n",
        "        for _data, _target in datasets:\n",
        "\n",
        "            # ! send model to the data !\n",
        "            model = model.send(_data.location)\n",
        "\n",
        "            # do normal training\n",
        "            opt.zero_grad()\n",
        "            pred = model(_data)\n",
        "            loss = ((pred - _target)**2).sum()\n",
        "            loss.backward()\n",
        "            opt.step()\n",
        "\n",
        "            # get smarter model back\n",
        "            model = model.get()\n",
        "\n",
        "            print(loss.get())"
      ]
    },
    {
      "cell_type": "code",
      "execution_count": null,
      "metadata": {
        "id": "_Zol5x0y2ic0",
        "outputId": "52aec27f-3a4e-452b-9bc7-ad6465d9b0c7"
      },
      "outputs": [
        {
          "name": "stdout",
          "output_type": "stream",
          "text": [
            "tensor(2.3718, requires_grad=True)\n",
            "tensor(0.0115, requires_grad=True)\n",
            "tensor(0.0399, requires_grad=True)\n",
            "tensor(0.0185, requires_grad=True)\n",
            "tensor(0.0121, requires_grad=True)\n",
            "tensor(0.0113, requires_grad=True)\n",
            "tensor(0.0069, requires_grad=True)\n",
            "tensor(0.0066, requires_grad=True)\n",
            "tensor(0.0041, requires_grad=True)\n",
            "tensor(0.0038, requires_grad=True)\n",
            "tensor(0.0025, requires_grad=True)\n",
            "tensor(0.0022, requires_grad=True)\n",
            "tensor(0.0015, requires_grad=True)\n",
            "tensor(0.0013, requires_grad=True)\n",
            "tensor(0.0009, requires_grad=True)\n",
            "tensor(0.0008, requires_grad=True)\n",
            "tensor(0.0006, requires_grad=True)\n",
            "tensor(0.0005, requires_grad=True)\n",
            "tensor(0.0004, requires_grad=True)\n",
            "tensor(0.0003, requires_grad=True)\n",
            "tensor(0.0002, requires_grad=True)\n",
            "tensor(0.0002, requires_grad=True)\n",
            "tensor(0.0001, requires_grad=True)\n",
            "tensor(0.0001, requires_grad=True)\n",
            "tensor(9.6011e-05, requires_grad=True)\n",
            "tensor(7.3383e-05, requires_grad=True)\n",
            "tensor(6.3639e-05, requires_grad=True)\n",
            "tensor(4.9034e-05, requires_grad=True)\n",
            "tensor(4.2789e-05, requires_grad=True)\n",
            "tensor(3.3545e-05, requires_grad=True)\n",
            "tensor(2.9169e-05, requires_grad=True)\n",
            "tensor(2.3451e-05, requires_grad=True)\n",
            "tensor(2.0143e-05, requires_grad=True)\n",
            "tensor(1.6705e-05, requires_grad=True)\n",
            "tensor(1.4076e-05, requires_grad=True)\n",
            "tensor(1.2087e-05, requires_grad=True)\n",
            "tensor(9.9414e-06, requires_grad=True)\n",
            "tensor(8.8550e-06, requires_grad=True)\n",
            "tensor(7.0880e-06, requires_grad=True)\n",
            "tensor(6.5494e-06, requires_grad=True)\n"
          ]
        }
      ],
      "source": [
        "train()"
      ]
    },
    {
      "cell_type": "code",
      "execution_count": null,
      "metadata": {
        "id": "76tFToG12ic0"
      },
      "outputs": [],
      "source": []
    },
    {
      "cell_type": "markdown",
      "metadata": {
        "id": "II0rPMS12ic0"
      },
      "source": [
        "# Lesson: Advanced Remote Execution Tools\n",
        "\n",
        "In the last section we trained a toy model using Federated Learning. We did this by calling .send() and .get() on our model, sending it to the location of training data, updating it, and then bringing it back. However, at the end of the example we realized that we needed to go a bit further to protect people privacy. Namely, we want to average the gradients BEFORE calling .get(). That way, we won't ever see anyone's exact gradient (thus better protecting their privacy!!!)\n",
        "\n",
        "But, in order to do this, we need a few more pieces:\n",
        "\n",
        "- use a pointer to send a Tensor directly to another worker\n",
        "\n",
        "And in addition, while we're here, we're going to learn about a few more advanced tensor operations as well which will help us both with this example and a few in the future!"
      ]
    },
    {
      "cell_type": "code",
      "execution_count": null,
      "metadata": {
        "id": "O_s_H7gp2ic1",
        "outputId": "01e8231d-7a40-46b8-9dd3-c2478d68d54a"
      },
      "outputs": [
        {
          "data": {
            "text/plain": [
              "<VirtualWorker id:alice #objects:0>"
            ]
          },
          "execution_count": 12,
          "metadata": {},
          "output_type": "execute_result"
        }
      ],
      "source": [
        "bob.clear_objects()\n",
        "alice.clear_objects()"
      ]
    },
    {
      "cell_type": "code",
      "execution_count": null,
      "metadata": {
        "id": "GDZD1QLW2ic1",
        "outputId": "fd23eaad-1edf-4f97-f01a-11b547e7bd63"
      },
      "outputs": [
        {
          "data": {
            "text/plain": [
              "<VirtualWorker id:alice #tensors:0>"
            ]
          },
          "execution_count": 164,
          "metadata": {},
          "output_type": "execute_result"
        }
      ],
      "source": []
    },
    {
      "cell_type": "code",
      "execution_count": null,
      "metadata": {
        "id": "EFiCYFso2ic1"
      },
      "outputs": [],
      "source": [
        "x = th.tensor([1,2,3,4,5]).send(bob)"
      ]
    },
    {
      "cell_type": "code",
      "execution_count": null,
      "metadata": {
        "id": "fnBiNuIu2ic1"
      },
      "outputs": [],
      "source": [
        "x = x.send(alice)"
      ]
    },
    {
      "cell_type": "code",
      "execution_count": null,
      "metadata": {
        "id": "YltXRgYH2ic2",
        "outputId": "4ff5ab83-2c19-4d33-880d-8d27b56c16d6"
      },
      "outputs": [
        {
          "data": {
            "text/plain": [
              "{52302763536: tensor([1, 2, 3, 4, 5])}"
            ]
          },
          "execution_count": 16,
          "metadata": {},
          "output_type": "execute_result"
        }
      ],
      "source": [
        "bob._objects"
      ]
    },
    {
      "cell_type": "code",
      "execution_count": null,
      "metadata": {
        "id": "I650H20J2ic2",
        "outputId": "892fadf6-418f-48a8-819c-5a0596bf888d"
      },
      "outputs": [
        {
          "data": {
            "text/plain": [
              "{45464412481: (Wrapper)>[PointerTensor | alice:45464412481 -> bob:52302763536]}"
            ]
          },
          "execution_count": 17,
          "metadata": {},
          "output_type": "execute_result"
        }
      ],
      "source": [
        "alice._objects"
      ]
    },
    {
      "cell_type": "code",
      "execution_count": null,
      "metadata": {
        "id": "JoP5EFQv2ic2"
      },
      "outputs": [],
      "source": [
        "y = x + x"
      ]
    },
    {
      "cell_type": "code",
      "execution_count": null,
      "metadata": {
        "id": "UKUz8xrS2ic2",
        "outputId": "596b85e6-68e1-4bfe-f998-16d70bc05e10"
      },
      "outputs": [
        {
          "data": {
            "text/plain": [
              "(Wrapper)>[PointerTensor | me:48245103328 -> alice:79603568093]"
            ]
          },
          "execution_count": 19,
          "metadata": {},
          "output_type": "execute_result"
        }
      ],
      "source": [
        "y"
      ]
    },
    {
      "cell_type": "code",
      "execution_count": null,
      "metadata": {
        "id": "HirJlLUg2ic3",
        "outputId": "f7377d39-e7b8-476d-ec46-71f4d8a49957"
      },
      "outputs": [
        {
          "data": {
            "text/plain": [
              "{52302763536: tensor([1, 2, 3, 4, 5]),\n",
              " 52154218474: tensor([ 2,  4,  6,  8, 10])}"
            ]
          },
          "execution_count": 20,
          "metadata": {},
          "output_type": "execute_result"
        }
      ],
      "source": [
        "bob._objects"
      ]
    },
    {
      "cell_type": "code",
      "execution_count": null,
      "metadata": {
        "id": "lyPnwqIX2ic3",
        "outputId": "327f4d36-0b5c-4c2d-84b5-764c5142f5a1"
      },
      "outputs": [
        {
          "data": {
            "text/plain": [
              "{45464412481: (Wrapper)>[PointerTensor | alice:45464412481 -> bob:52302763536],\n",
              " 79603568093: (Wrapper)>[PointerTensor | alice:79603568093 -> bob:52154218474]}"
            ]
          },
          "execution_count": 21,
          "metadata": {},
          "output_type": "execute_result"
        }
      ],
      "source": [
        "alice._objects"
      ]
    },
    {
      "cell_type": "code",
      "execution_count": null,
      "metadata": {
        "id": "7tDcwAE82ic3"
      },
      "outputs": [],
      "source": [
        "jon = sy.VirtualWorker(hook, id=\"jon\")"
      ]
    },
    {
      "cell_type": "code",
      "execution_count": null,
      "metadata": {
        "id": "z5p3c6aJ2ic4"
      },
      "outputs": [],
      "source": [
        "bob.clear_objects()\n",
        "alice.clear_objects()\n",
        "\n",
        "x = th.tensor([1,2,3,4,5]).send(bob).send(alice)"
      ]
    },
    {
      "cell_type": "code",
      "execution_count": null,
      "metadata": {
        "id": "xDGyYJm42ic4",
        "outputId": "6a643230-d3fd-485f-e065-9843d9a2b6b2"
      },
      "outputs": [
        {
          "data": {
            "text/plain": [
              "{53958391141: tensor([1, 2, 3, 4, 5])}"
            ]
          },
          "execution_count": 24,
          "metadata": {},
          "output_type": "execute_result"
        }
      ],
      "source": [
        "bob._objects"
      ]
    },
    {
      "cell_type": "code",
      "execution_count": null,
      "metadata": {
        "id": "bQp493L72ic4",
        "outputId": "0903f9e4-bfda-4477-e781-5ea1cbc1ecfe"
      },
      "outputs": [
        {
          "data": {
            "text/plain": [
              "{92007380369: (Wrapper)>[PointerTensor | alice:92007380369 -> bob:53958391141]}"
            ]
          },
          "execution_count": 25,
          "metadata": {},
          "output_type": "execute_result"
        }
      ],
      "source": [
        "alice._objects"
      ]
    },
    {
      "cell_type": "code",
      "execution_count": null,
      "metadata": {
        "id": "hTpSaTNr2ic4",
        "outputId": "a836cd55-f1b5-4e5e-d313-ba0062c704ea"
      },
      "outputs": [
        {
          "data": {
            "text/plain": [
              "(Wrapper)>[PointerTensor | me:92007380369 -> bob:53958391141]"
            ]
          },
          "execution_count": 26,
          "metadata": {},
          "output_type": "execute_result"
        }
      ],
      "source": [
        "x = x.get()\n",
        "x"
      ]
    },
    {
      "cell_type": "code",
      "execution_count": null,
      "metadata": {
        "id": "JcHUQeJz2ic5",
        "outputId": "a6af9465-dc5f-45a8-a23b-b33099ed7a80"
      },
      "outputs": [
        {
          "data": {
            "text/plain": [
              "{53958391141: tensor([1, 2, 3, 4, 5])}"
            ]
          },
          "execution_count": 27,
          "metadata": {},
          "output_type": "execute_result"
        }
      ],
      "source": [
        "bob._objects"
      ]
    },
    {
      "cell_type": "code",
      "execution_count": null,
      "metadata": {
        "id": "EXAE7nH02ic5",
        "outputId": "55b123a5-31d8-4213-cbbf-9d9843703bc6"
      },
      "outputs": [
        {
          "data": {
            "text/plain": [
              "{}"
            ]
          },
          "execution_count": 28,
          "metadata": {},
          "output_type": "execute_result"
        }
      ],
      "source": [
        "alice._objects"
      ]
    },
    {
      "cell_type": "code",
      "execution_count": null,
      "metadata": {
        "id": "a0OAKlSP2ic6",
        "outputId": "dd47d2d7-4ccd-4a2b-ae72-aa5e00476446"
      },
      "outputs": [
        {
          "data": {
            "text/plain": [
              "tensor([1, 2, 3, 4, 5])"
            ]
          },
          "execution_count": 29,
          "metadata": {},
          "output_type": "execute_result"
        }
      ],
      "source": [
        "x = x.get()\n",
        "x"
      ]
    },
    {
      "cell_type": "code",
      "execution_count": null,
      "metadata": {
        "id": "AVA31v-02ic6",
        "outputId": "684b8e36-3536-45de-9c5c-5813a0c4fa4b"
      },
      "outputs": [
        {
          "data": {
            "text/plain": [
              "{}"
            ]
          },
          "execution_count": 30,
          "metadata": {},
          "output_type": "execute_result"
        }
      ],
      "source": [
        "bob._objects"
      ]
    },
    {
      "cell_type": "markdown",
      "metadata": {
        "id": "k6ktJ5y12ic6"
      },
      "source": [
        "## Garbage collection"
      ]
    },
    {
      "cell_type": "code",
      "execution_count": null,
      "metadata": {
        "id": "-IZHr_Sx2ic6"
      },
      "outputs": [],
      "source": [
        "bob.clear_objects()\n",
        "alice.clear_objects()\n",
        "\n",
        "x = th.tensor([1,2,3,4,5]).send(bob).send(alice)"
      ]
    },
    {
      "cell_type": "code",
      "execution_count": null,
      "metadata": {
        "id": "x6_BfWRu2ic7",
        "outputId": "833d0164-e6a5-4e33-d632-3df22d4425e0"
      },
      "outputs": [
        {
          "data": {
            "text/plain": [
              "{16156287205: tensor([1, 2, 3, 4, 5])}"
            ]
          },
          "execution_count": 33,
          "metadata": {},
          "output_type": "execute_result"
        }
      ],
      "source": [
        "bob._objects"
      ]
    },
    {
      "cell_type": "code",
      "execution_count": null,
      "metadata": {
        "id": "nSwkNeuO2ic7",
        "outputId": "51ec6185-ac44-496a-c844-a0ba9b4d67e2"
      },
      "outputs": [
        {
          "data": {
            "text/plain": [
              "{72840854718: (Wrapper)>[PointerTensor | alice:72840854718 -> bob:16156287205]}"
            ]
          },
          "execution_count": 34,
          "metadata": {},
          "output_type": "execute_result"
        }
      ],
      "source": [
        "alice._objects"
      ]
    },
    {
      "cell_type": "code",
      "execution_count": null,
      "metadata": {
        "id": "Qs08dy892ic7"
      },
      "outputs": [],
      "source": [
        "del x"
      ]
    },
    {
      "cell_type": "code",
      "execution_count": null,
      "metadata": {
        "id": "MtVqbO7x2ic8",
        "outputId": "df7ae83d-be08-424b-9c0a-21824d1d1bca"
      },
      "outputs": [
        {
          "data": {
            "text/plain": [
              "{}"
            ]
          },
          "execution_count": 36,
          "metadata": {},
          "output_type": "execute_result"
        }
      ],
      "source": [
        "bob._objects"
      ]
    },
    {
      "cell_type": "code",
      "execution_count": null,
      "metadata": {
        "id": "-T1LeiN02ic8",
        "outputId": "aafae9cf-2985-4d5e-de89-1b14b41bd93f"
      },
      "outputs": [
        {
          "data": {
            "text/plain": [
              "{}"
            ]
          },
          "execution_count": 37,
          "metadata": {},
          "output_type": "execute_result"
        }
      ],
      "source": [
        "alice._objects"
      ]
    },
    {
      "cell_type": "code",
      "execution_count": null,
      "metadata": {
        "id": "j4quiso82ic8"
      },
      "outputs": [],
      "source": []
    },
    {
      "cell_type": "code",
      "execution_count": null,
      "metadata": {
        "id": "cLMlzpJ72ic8"
      },
      "outputs": [],
      "source": []
    },
    {
      "cell_type": "markdown",
      "metadata": {
        "id": "tmqxaetf2ic9"
      },
      "source": [
        "# Lesson: Pointer Chain Operations"
      ]
    },
    {
      "cell_type": "code",
      "execution_count": null,
      "metadata": {
        "id": "g901gzdq2ic9",
        "outputId": "3da75c60-929a-46f3-ab7b-532111fbb897"
      },
      "outputs": [
        {
          "data": {
            "text/plain": [
              "<VirtualWorker id:alice #objects:0>"
            ]
          },
          "execution_count": 59,
          "metadata": {},
          "output_type": "execute_result"
        }
      ],
      "source": [
        "bob.clear_objects()\n",
        "alice.clear_objects()"
      ]
    },
    {
      "cell_type": "code",
      "execution_count": null,
      "metadata": {
        "id": "C5NYq0252ic9"
      },
      "outputs": [],
      "source": [
        "x = th.tensor([1,2,3,4,5]).send(bob)"
      ]
    },
    {
      "cell_type": "code",
      "execution_count": null,
      "metadata": {
        "id": "wofuy3eA2ic9",
        "outputId": "e33a0e41-d751-47f1-f538-983bc0e9a11f"
      },
      "outputs": [
        {
          "data": {
            "text/plain": [
              "{64230801950: tensor([1, 2, 3, 4, 5])}"
            ]
          },
          "execution_count": 40,
          "metadata": {},
          "output_type": "execute_result"
        }
      ],
      "source": [
        "bob._objects"
      ]
    },
    {
      "cell_type": "code",
      "execution_count": null,
      "metadata": {
        "id": "rEUp0IuK2ic-",
        "outputId": "c76b5c95-4bcf-4ff5-aa49-d3fcaffc95b1"
      },
      "outputs": [
        {
          "data": {
            "text/plain": [
              "{}"
            ]
          },
          "execution_count": 41,
          "metadata": {},
          "output_type": "execute_result"
        }
      ],
      "source": [
        "alice._objects"
      ]
    },
    {
      "cell_type": "code",
      "execution_count": null,
      "metadata": {
        "id": "d2j2Npe32ic-",
        "outputId": "3dda6521-591d-457e-e576-7d86aa726eb7"
      },
      "outputs": [
        {
          "data": {
            "text/plain": [
              "(Wrapper)>[PointerTensor | me:31355857172 -> alice:31355857172]"
            ]
          },
          "execution_count": 42,
          "metadata": {},
          "output_type": "execute_result"
        }
      ],
      "source": [
        "# we transfered the data from bob to alice\n",
        "x.move(alice)"
      ]
    },
    {
      "cell_type": "code",
      "execution_count": null,
      "metadata": {
        "id": "80jGuSSY2ic-",
        "outputId": "977937a4-6ad0-4293-a3ee-4a3cb46d90de"
      },
      "outputs": [
        {
          "data": {
            "text/plain": [
              "{}"
            ]
          },
          "execution_count": 43,
          "metadata": {},
          "output_type": "execute_result"
        }
      ],
      "source": [
        "bob._objects"
      ]
    },
    {
      "cell_type": "code",
      "execution_count": null,
      "metadata": {
        "id": "Saiiylsj2ic-",
        "outputId": "47f01c6d-1584-4ac2-f471-3bdc90abd033"
      },
      "outputs": [
        {
          "data": {
            "text/plain": [
              "{31355857172: tensor([1, 2, 3, 4, 5])}"
            ]
          },
          "execution_count": 44,
          "metadata": {},
          "output_type": "execute_result"
        }
      ],
      "source": [
        "alice._objects"
      ]
    },
    {
      "cell_type": "code",
      "execution_count": null,
      "metadata": {
        "id": "V85OoUSL2ic_"
      },
      "outputs": [],
      "source": []
    },
    {
      "cell_type": "code",
      "execution_count": null,
      "metadata": {
        "id": "qEYp3is_2ic_"
      },
      "outputs": [],
      "source": [
        "x = th.tensor([1,2,3,4,5]).send(bob).send(alice)"
      ]
    },
    {
      "cell_type": "code",
      "execution_count": null,
      "metadata": {
        "id": "-WJkzrBB2ic_",
        "outputId": "cc30c73d-9668-4284-f262-d0f98fba3a2b"
      },
      "outputs": [
        {
          "data": {
            "text/plain": [
              "{32433724544: tensor([1, 2, 3, 4, 5])}"
            ]
          },
          "execution_count": 61,
          "metadata": {},
          "output_type": "execute_result"
        }
      ],
      "source": [
        "bob._objects"
      ]
    },
    {
      "cell_type": "code",
      "execution_count": null,
      "metadata": {
        "id": "2NkR5oFr2ic_",
        "outputId": "0cb31f0b-e75d-4966-e071-55ffdc668805"
      },
      "outputs": [
        {
          "data": {
            "text/plain": [
              "{24940935406: (Wrapper)>[PointerTensor | alice:24940935406 -> bob:32433724544]}"
            ]
          },
          "execution_count": 62,
          "metadata": {},
          "output_type": "execute_result"
        }
      ],
      "source": [
        "alice._objects"
      ]
    },
    {
      "cell_type": "code",
      "execution_count": null,
      "metadata": {
        "id": "0zSMIGQX2idA",
        "outputId": "f403c350-ce5d-478f-b227-8fb807260bd7"
      },
      "outputs": [
        {
          "data": {
            "text/plain": [
              "(Wrapper)>[PointerTensor | me:56565578794 -> alice:24940935406]"
            ]
          },
          "execution_count": 63,
          "metadata": {},
          "output_type": "execute_result"
        }
      ],
      "source": [
        "# transfer data from bob to alice\n",
        "x.remote_get()"
      ]
    },
    {
      "cell_type": "code",
      "execution_count": null,
      "metadata": {
        "id": "vi6CHBlA2idA",
        "outputId": "006008cd-67c3-472a-fd48-5cf59829c3ee"
      },
      "outputs": [
        {
          "data": {
            "text/plain": [
              "{}"
            ]
          },
          "execution_count": 64,
          "metadata": {},
          "output_type": "execute_result"
        }
      ],
      "source": [
        "bob._objects"
      ]
    },
    {
      "cell_type": "code",
      "execution_count": null,
      "metadata": {
        "id": "OkWCZAC_2idA",
        "outputId": "0a782ec7-47e3-4886-c600-b60b79989c5c"
      },
      "outputs": [
        {
          "data": {
            "text/plain": [
              "{24940935406: tensor([1, 2, 3, 4, 5])}"
            ]
          },
          "execution_count": 65,
          "metadata": {},
          "output_type": "execute_result"
        }
      ],
      "source": [
        "alice._objects"
      ]
    },
    {
      "cell_type": "code",
      "execution_count": null,
      "metadata": {
        "id": "mKPGP1zQ2idB",
        "outputId": "cd8d1ca5-b6b4-432e-b0a7-28ea37b64374"
      },
      "outputs": [
        {
          "data": {
            "text/plain": [
              "(Wrapper)>[PointerTensor | me:56565578794 -> bob:56565578794]"
            ]
          },
          "execution_count": 66,
          "metadata": {},
          "output_type": "execute_result"
        }
      ],
      "source": [
        "x.move(bob)"
      ]
    },
    {
      "cell_type": "code",
      "execution_count": null,
      "metadata": {
        "id": "5r4lLbrK2idB",
        "outputId": "15b35272-6694-4103-fd38-81f67c636f85"
      },
      "outputs": [
        {
          "data": {
            "text/plain": [
              "(Wrapper)>[PointerTensor | me:56565578794 -> bob:56565578794]"
            ]
          },
          "execution_count": 67,
          "metadata": {},
          "output_type": "execute_result"
        }
      ],
      "source": [
        "x"
      ]
    },
    {
      "cell_type": "code",
      "execution_count": null,
      "metadata": {
        "id": "Kbg4CSej2idB",
        "outputId": "d40bc51e-2f83-4163-818e-c61d8bb502cb"
      },
      "outputs": [
        {
          "data": {
            "text/plain": [
              "{56565578794: tensor([1, 2, 3, 4, 5])}"
            ]
          },
          "execution_count": 68,
          "metadata": {},
          "output_type": "execute_result"
        }
      ],
      "source": [
        "bob._objects"
      ]
    },
    {
      "cell_type": "code",
      "execution_count": null,
      "metadata": {
        "id": "_DcvBDow2idC",
        "outputId": "56dd0b02-30a5-4221-c31b-8df8d06efab3"
      },
      "outputs": [
        {
          "data": {
            "text/plain": [
              "{}"
            ]
          },
          "execution_count": 69,
          "metadata": {},
          "output_type": "execute_result"
        }
      ],
      "source": [
        "alice._objects"
      ]
    },
    {
      "cell_type": "code",
      "execution_count": null,
      "metadata": {
        "id": "lP-IaMPX2idC"
      },
      "outputs": [],
      "source": []
    },
    {
      "cell_type": "code",
      "execution_count": null,
      "metadata": {
        "id": "N3WUyT-L2idC"
      },
      "outputs": [],
      "source": []
    },
    {
      "cell_type": "code",
      "execution_count": null,
      "metadata": {
        "id": "3VEoADsE2idC"
      },
      "outputs": [],
      "source": []
    },
    {
      "cell_type": "code",
      "execution_count": null,
      "metadata": {
        "id": "Ecafzx2S2idC"
      },
      "outputs": [],
      "source": []
    },
    {
      "cell_type": "code",
      "execution_count": null,
      "metadata": {
        "id": "mIIUkzwY2idD"
      },
      "outputs": [],
      "source": []
    },
    {
      "cell_type": "code",
      "execution_count": null,
      "metadata": {
        "id": "7HxddNw82idD"
      },
      "outputs": [],
      "source": []
    },
    {
      "cell_type": "code",
      "execution_count": null,
      "metadata": {
        "id": "Mi8WbG4p2idD"
      },
      "outputs": [],
      "source": []
    },
    {
      "cell_type": "code",
      "execution_count": null,
      "metadata": {
        "id": "eQHgjKDs2idD"
      },
      "outputs": [],
      "source": []
    },
    {
      "cell_type": "code",
      "execution_count": null,
      "metadata": {
        "id": "OADgoe2H2idD"
      },
      "outputs": [],
      "source": []
    },
    {
      "cell_type": "code",
      "execution_count": null,
      "metadata": {
        "id": "zveahJgu2idD"
      },
      "outputs": [],
      "source": []
    },
    {
      "cell_type": "code",
      "execution_count": null,
      "metadata": {
        "id": "6Mds_wk82idE"
      },
      "outputs": [],
      "source": []
    },
    {
      "cell_type": "code",
      "execution_count": null,
      "metadata": {
        "id": "VdDXyO_W2idE"
      },
      "outputs": [],
      "source": []
    },
    {
      "cell_type": "code",
      "execution_count": null,
      "metadata": {
        "id": "aE9IWVaJ2idE"
      },
      "outputs": [],
      "source": []
    }
  ],
  "metadata": {
    "kernelspec": {
      "display_name": "Python 3",
      "language": "python",
      "name": "python3"
    },
    "language_info": {
      "codemirror_mode": {
        "name": "ipython",
        "version": 3
      },
      "file_extension": ".py",
      "mimetype": "text/x-python",
      "name": "python",
      "nbconvert_exporter": "python",
      "pygments_lexer": "ipython3",
      "version": "3.6.8"
    },
    "toc": {
      "base_numbering": 1,
      "nav_menu": {},
      "number_sections": true,
      "sideBar": true,
      "skip_h1_title": false,
      "title_cell": "Table of Contents",
      "title_sidebar": "Contents",
      "toc_cell": false,
      "toc_position": {},
      "toc_section_display": true,
      "toc_window_display": false
    },
    "colab": {
      "provenance": [],
      "include_colab_link": true
    }
  },
  "nbformat": 4,
  "nbformat_minor": 0
}